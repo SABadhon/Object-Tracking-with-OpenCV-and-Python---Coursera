{
 "cells": [
  {
   "cell_type": "code",
   "execution_count": 1,
   "metadata": {},
   "outputs": [
    {
     "name": "stdout",
     "output_type": "stream",
     "text": [
      "Program Finished\n"
     ]
    }
   ],
   "source": [
    "import cv2\n",
    "import numpy as np\n",
    "\n",
    "#cap = cv2.VideoCapture(0) # webcam\n",
    "cap = cv2.VideoCapture('Video/face_track.mp4')\n",
    "face_casc = cv2.CascadeClassifier('HaarCascades/haarcascade_frontalface_default.xml') # cascade classifier\n",
    "\n",
    "while True:\n",
    "    ret, frame = cap.read()\n",
    "    \n",
    "    if ret==True:\n",
    "        gray = cv2.cvtColor(frame,\n",
    "                           cv2.COLOR_BGR2GRAY) # convert to gray\n",
    "        \n",
    "        face_rects = face_casc.detectMultiScale(gray, \n",
    "                                                1.3, \n",
    "                                                5)\n",
    "        if face_rects is ():\n",
    "            cv2.imshow('Facetracker', frame)\n",
    "        else:\n",
    "            face_x, face_y, w, h = tuple(face_rects[0])\n",
    "            track_window = (face_x, face_y, w, h) # tracking window\n",
    "            for (face_x, face_y, w, h) in face_rects:\n",
    "\n",
    "                roi = frame[face_y:face_y+h,\n",
    "                            face_x:face_x+w] # region of interest\n",
    "\n",
    "                roi_hsv = cv2.cvtColor(roi,\n",
    "                                      cv2.COLOR_BGR2HSV) # HSV color mapping\n",
    "\n",
    "                # Histogram to target on each frame for meanshift calculation\n",
    "                roi_hist = cv2.calcHist([roi_hsv],\n",
    "                                        [0],\n",
    "                                        None,\n",
    "                                        [180],\n",
    "                                        [0, 180])\n",
    "\n",
    "                # Normalize the histogram\n",
    "                cv2.normalize(roi_hist,\n",
    "                              roi_hist,\n",
    "                              0,\n",
    "                              255,\n",
    "                              cv2.NORM_MINMAX);\n",
    "\n",
    "                term_crit = (cv2.TERM_CRITERIA_EPS | cv2.TERM_CRITERIA_COUNT, 10, 1)\n",
    "\n",
    "                # frame in hsv \n",
    "                hsv = cv2.cvtColor(frame, cv2.COLOR_BGR2HSV)\n",
    "\n",
    "                # calculate the base of ROI\n",
    "                dest_roi = cv2.calcBackProject([hsv],\n",
    "                                              [0],\n",
    "                                              roi_hist,\n",
    "                                              [0, 180],\n",
    "                                              1)\n",
    "\n",
    "                # meanshift to calculate the new coordinates of the rectangle\n",
    "                ret, track_window = cv2.meanShift(dest_roi,\n",
    "                                                 track_window,\n",
    "                                                 term_crit)\n",
    "\n",
    "                # Draw new rectangle on image\n",
    "                x,y,w,h = track_window\n",
    "\n",
    "                img = cv2.rectangle(frame,\n",
    "                                   (x,y),\n",
    "                                   (x+w, y+h),\n",
    "                                   (255,0,0),\n",
    "                                   2)\n",
    "\n",
    "                cv2.imshow('Facetracker',img)\n",
    "        \n",
    "        if cv2.waitKey(10) & 0xFF == ord('q'):\n",
    "            break\n",
    "        \n",
    "    else:\n",
    "        break\n",
    "\n",
    "cap.release()\n",
    "cv2.destroyAllWindows()\n",
    "print('Program Finished')"
   ]
  },
  {
   "cell_type": "code",
   "execution_count": null,
   "metadata": {},
   "outputs": [],
   "source": []
  }
 ],
 "metadata": {
  "kernelspec": {
   "display_name": "Python 3",
   "language": "python",
   "name": "python3"
  },
  "language_info": {
   "codemirror_mode": {
    "name": "ipython",
    "version": 3
   },
   "file_extension": ".py",
   "mimetype": "text/x-python",
   "name": "python",
   "nbconvert_exporter": "python",
   "pygments_lexer": "ipython3",
   "version": "3.7.7"
  }
 },
 "nbformat": 4,
 "nbformat_minor": 4
}
